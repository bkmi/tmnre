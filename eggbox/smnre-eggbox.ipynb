{
 "cells": [
  {
   "cell_type": "code",
   "execution_count": 1,
   "id": "ce7e1f29",
   "metadata": {},
   "outputs": [],
   "source": [
    "%matplotlib inline\n",
    "%load_ext autoreload\n",
    "%autoreload 2"
   ]
  },
  {
   "cell_type": "code",
   "execution_count": 2,
   "id": "bbebf1ef",
   "metadata": {},
   "outputs": [],
   "source": [
    "import logging\n",
    "from functools import partial\n",
    "from copy import deepcopy\n",
    "from toolz import compose, valmap, keyfilter, identity, merge\n",
    "from itertools import combinations\n",
    "import pickle\n",
    "\n",
    "from joblib import Parallel, delayed, parallel_backend\n",
    "\n",
    "import seaborn as sns\n",
    "import matplotlib.pyplot as plt\n",
    "import numpy as np\n",
    "import torch\n",
    "\n",
    "import sbi\n",
    "import sbi.utils\n",
    "import sbi.inference\n",
    "import sbi.analysis\n",
    "import sbibm\n",
    "\n",
    "import swyft\n",
    "\n",
    "import tmnre\n",
    "import tmnre.metrics\n",
    "import tmnre.benchmark\n",
    "import tmnre.coverage.oned\n",
    "from tmnre.nn.resnet import make_resenet_tail\n",
    "from tmnre.marginalize import filter_marginals_by_dim"
   ]
  },
  {
   "cell_type": "code",
   "execution_count": 3,
   "id": "c764092d",
   "metadata": {},
   "outputs": [],
   "source": [
    "log = logging.getLogger()\n",
    "log.setLevel(logging.INFO)\n",
    "logging.getLogger('matplotlib').setLevel(logging.WARNING)\n",
    "\n",
    "np.random.seed(28);\n",
    "torch.manual_seed(28);"
   ]
  },
  {
   "cell_type": "code",
   "execution_count": 4,
   "id": "f27d3fd8",
   "metadata": {},
   "outputs": [],
   "source": [
    "SAVE = False"
   ]
  },
  {
   "cell_type": "code",
   "execution_count": 5,
   "id": "f961f952",
   "metadata": {},
   "outputs": [
    {
     "name": "stdout",
     "output_type": "stream",
     "text": [
      "181\n",
      "tensor([0.2500, 0.2500, 0.2500, 0.2500, 0.2500, 0.2500, 0.2500, 0.2500, 0.2500,\n",
      "        0.2500])\n",
      "tensor([0.5000, 0.5000, 0.5000, 0.5000, 0.5000, 0.5000, 0.5000, 0.5000, 0.5000,\n",
      "        0.5000])\n"
     ]
    }
   ],
   "source": [
    "TASK_NAME = \"eggbox\"\n",
    "NUM_OBS = 1\n",
    "DIM = 10\n",
    "SEQDIM = 2\n",
    "N_SIMULATIONS = 10_000\n",
    "N_POSTERIOR_SAMPLES = 25_000\n",
    "N_JOBS = 12\n",
    "\n",
    "task = sbibm.get_task(\n",
    "    TASK_NAME,\n",
    "    dim=DIM,\n",
    ")\n",
    "\n",
    "marginal_2d_inds = list(combinations(range(task.dim_parameters), 2))\n",
    "marginal_1d_inds = list(combinations(range(task.dim_parameters), 1))\n",
    "N_SIMS_PER_MARGINAL = N_SIMULATIONS // (len(marginal_1d_inds) + len(marginal_2d_inds))\n",
    "print(N_SIMS_PER_MARGINAL)\n",
    "\n",
    "theta0 = task.get_true_parameters(NUM_OBS).squeeze()\n",
    "obs0 = task.get_observation(NUM_OBS).squeeze()\n",
    "print(theta0)\n",
    "print(obs0)"
   ]
  },
  {
   "cell_type": "code",
   "execution_count": 6,
   "id": "b5db8618",
   "metadata": {},
   "outputs": [],
   "source": [
    "def get_marginal_simulator():\n",
    "    simulator = task.get_simulator()\n",
    "    dim = task.dim_parameters\n",
    "    \n",
    "    def simulate(parameters):\n",
    "        *b, p = parameters.shape\n",
    "        non_seq_p = dim - p\n",
    "        if b:\n",
    "            extra_params = torch.rand(b, non_seq_p)\n",
    "        else:\n",
    "            extra_params = torch.rand(non_seq_p)\n",
    "        total_parameters = torch.cat([parameters, extra_params], dim=-1)\n",
    "        return simulator(total_parameters)\n",
    "    \n",
    "    return simulate\n",
    "\n",
    "def get_snre_posterior_samples(n_simulations, n_posterior_samples, prior, sim):\n",
    "    num_rounds = 10\n",
    "    n_per_round = n_simulations // 10\n",
    "    posteriors = []\n",
    "    inference = sbi.inference.SNRE_A(prior=prior)\n",
    "    proposal = prior\n",
    "    print(proposal.sample())\n",
    "    for r in range(10):\n",
    "        theta, x = sbi.inference.simulate_for_sbi(sim, proposal, num_simulations=n_per_round, num_workers=4)\n",
    "        density_estimator = inference.append_simulations(theta, x, from_round=r).train()\n",
    "        posterior = inference.build_posterior(density_estimator)\n",
    "        posteriors.append(posterior)\n",
    "        proposal = posterior.set_default_x(torch.atleast_2d(obs0))\n",
    "    return posterior.sample(\n",
    "        (int(n_posterior_samples),), \n",
    "        x=torch.atleast_2d(obs0)\n",
    "    )"
   ]
  },
  {
   "cell_type": "code",
   "execution_count": 7,
   "id": "35b205c1",
   "metadata": {},
   "outputs": [],
   "source": [
    "prior_2d_min = torch.zeros(SEQDIM)\n",
    "prior_2d_max = torch.ones(SEQDIM)\n",
    "sbi_2d_prior = sbi.utils.torchutils.BoxUniform(\n",
    "    low=torch.as_tensor(prior_2d_min), \n",
    "    high=torch.as_tensor(prior_2d_max)\n",
    ")\n",
    "seq_2d_sim, seq_2d_prior = sbi.inference.prepare_for_sbi(\n",
    "    get_marginal_simulator(), \n",
    "    sbi_2d_prior,\n",
    ")"
   ]
  },
  {
   "cell_type": "code",
   "execution_count": 8,
   "id": "5ed06ce2",
   "metadata": {},
   "outputs": [],
   "source": [
    "if SAVE:\n",
    "    with parallel_backend(\"loky\", inner_max_num_threads=1):\n",
    "        result = Parallel(n_jobs=N_JOBS)(\n",
    "            delayed(get_snre_posterior_samples)(N_SIMS_PER_MARGINAL, N_POSTERIOR_SAMPLES, seq_2d_prior, seq_2d_sim)\n",
    "            for _ in marginal_2d_inds\n",
    "        )\n",
    "    marginals_2d = {ind: res for ind, res in zip(marginal_2d_inds, result)}\n",
    "else:\n",
    "    pass"
   ]
  },
  {
   "cell_type": "code",
   "execution_count": 9,
   "id": "d260d80e",
   "metadata": {},
   "outputs": [],
   "source": [
    "prior_1d_min = torch.zeros(SEQDIM - 1)\n",
    "prior_1d_max = torch.ones(SEQDIM - 1)\n",
    "sbi_1d_prior = sbi.utils.torchutils.BoxUniform(\n",
    "    low=torch.as_tensor(prior_1d_min), \n",
    "    high=torch.as_tensor(prior_1d_max)\n",
    ")\n",
    "seq_1d_sim, seq_1d_prior = sbi.inference.prepare_for_sbi(\n",
    "    get_marginal_simulator(), \n",
    "    sbi_1d_prior,\n",
    ")"
   ]
  },
  {
   "cell_type": "code",
   "execution_count": 10,
   "id": "510c6e7e",
   "metadata": {},
   "outputs": [],
   "source": [
    "if SAVE:\n",
    "    with parallel_backend(\"loky\", inner_max_num_threads=1):\n",
    "        result = Parallel(n_jobs=N_JOBS)(\n",
    "            delayed(get_snre_posterior_samples)(N_SIMS_PER_MARGINAL, N_POSTERIOR_SAMPLES, seq_1d_prior, seq_1d_sim)\n",
    "            for _ in marginal_1d_inds\n",
    "        )\n",
    "    marginals_1d = {ind: res for ind, res in zip(marginal_1d_inds, result)}\n",
    "else:\n",
    "    pass"
   ]
  },
  {
   "cell_type": "code",
   "execution_count": 11,
   "id": "56776c4c",
   "metadata": {},
   "outputs": [],
   "source": [
    "path = f\"eggbox-seq-marg-{SEQDIM:02d}-marginals.pickle\"\n",
    "if SAVE:\n",
    "    with open(path, \"wb\") as f:\n",
    "        marginals = merge(marginals_1d, marginals_2d)\n",
    "        pickle.dump(marginals, f)\n",
    "else:\n",
    "    with open(path, \"rb\") as f:\n",
    "        marginals = pickle.load(f)"
   ]
  },
  {
   "cell_type": "code",
   "execution_count": null,
   "id": "22ddb86c",
   "metadata": {},
   "outputs": [],
   "source": []
  }
 ],
 "metadata": {
  "kernelspec": {
   "display_name": "Python 3 (ipykernel)",
   "language": "python",
   "name": "python3"
  },
  "language_info": {
   "codemirror_mode": {
    "name": "ipython",
    "version": 3
   },
   "file_extension": ".py",
   "mimetype": "text/x-python",
   "name": "python",
   "nbconvert_exporter": "python",
   "pygments_lexer": "ipython3",
   "version": "3.8.10"
  }
 },
 "nbformat": 4,
 "nbformat_minor": 5
}
