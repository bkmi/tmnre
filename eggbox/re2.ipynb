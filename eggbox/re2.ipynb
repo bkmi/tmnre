{
 "cells": [
  {
   "cell_type": "code",
   "execution_count": 2,
   "id": "6cc217bd-abc4-4f70-9ece-d909f26423e9",
   "metadata": {},
   "outputs": [
    {
     "name": "stdout",
     "output_type": "stream",
     "text": [
      "The autoreload extension is already loaded. To reload it, use:\n",
      "  %reload_ext autoreload\n"
     ]
    }
   ],
   "source": [
    "%matplotlib inline\n",
    "%load_ext autoreload\n",
    "%autoreload 2"
   ]
  },
  {
   "cell_type": "code",
   "execution_count": 3,
   "id": "e4561ea5-db2f-44b0-984f-b7742a94005f",
   "metadata": {},
   "outputs": [],
   "source": [
    "import logging\n",
    "from functools import partial\n",
    "from copy import deepcopy\n",
    "from toolz import compose, valmap, keyfilter, identity, merge\n",
    "from itertools import combinations\n",
    "import pickle\n",
    "\n",
    "import pandas as pd\n",
    "import seaborn as sns\n",
    "import matplotlib.pyplot as plt\n",
    "import numpy as np\n",
    "import torch\n",
    "\n",
    "import sbi\n",
    "import sbi.utils\n",
    "import sbi.inference\n",
    "import sbi.analysis\n",
    "\n",
    "import sbibm\n",
    "import sbibm.tasks.eggbox\n",
    "import sbibm.tasks.eggbox.posterior\n",
    "import sbibm.tasks.rotated_eggbox.posterior as REP\n",
    "\n",
    "import scipy\n",
    "import scipy.stats\n",
    "\n",
    "import swyft\n",
    "import swyft.utils.constrainedcorner as cc\n",
    "\n",
    "import tmnre\n",
    "import tmnre.metrics\n",
    "import tmnre.benchmark\n",
    "import tmnre.coverage.oned\n",
    "from tmnre.nn.resnet import make_resenet_tail\n",
    "from tmnre.marginalize import filter_marginals_by_dim"
   ]
  },
  {
   "cell_type": "markdown",
   "id": "fae300ca-8c66-4d9b-98b4-2830809c107f",
   "metadata": {},
   "source": [
    "# Let's create a simulator in 2d\n",
    "\n",
    "If $x = g(\\theta)$ is the usual case, and we want our posterior to be $p(A \\theta | x)$, we need to rotate such that $x = g(A^{-1} \\theta)$.\n",
    "\n",
    "\n",
    "## Actually...\n",
    "This is a waste of time. We can just use our posterior samples from $x=g(\\theta)$. We rotate them with $\\theta \\to A \\theta$."
   ]
  },
  {
   "cell_type": "code",
   "execution_count": 52,
   "id": "17083d2b-3dd0-4d98-a6f3-16bcf6331f99",
   "metadata": {},
   "outputs": [
    {
     "name": "stdout",
     "output_type": "stream",
     "text": [
      "[[ 0.70710678 -0.70710678]\n",
      " [ 0.70710678  0.70710678]]\n"
     ]
    }
   ],
   "source": [
    "def rot(angle: float, rdim1: int, rdim2: int, dim: int):\n",
    "    assert rdim1 != rdim2\n",
    "    r = np.eye(dim)\n",
    "    r[rdim1, rdim1] = np.cos(angle)\n",
    "    r[rdim1, rdim2] = -np.sin(angle)\n",
    "    r[rdim2, rdim1] = np.sin(angle)\n",
    "    r[rdim2, rdim2] = np.cos(angle)\n",
    "    return r\n",
    "\n",
    "rot2 = partial(rot, rdim1=0, rdim2=1, dim=2)\n",
    "fortyfive = rot2(np.pi/4)\n",
    "invfortyfive = np.linalg.inv(fortyfive)\n",
    "print(fortyfive)\n",
    "\n",
    "def g(theta):\n",
    "    return np.sin(np.pi * invfortyfive @ theta) ** 2\n",
    "\n",
    "dim = 2\n",
    "theta0_before = np.ones(dim) * 0.25\n",
    "theta0 = fortyfive @ theta0_before\n",
    "x0 = g(theta0)\n",
    "\n",
    "normal = scipy.stats.multivariate_normal(mean=x0, cov=0.1 * np.eye(dim))\n",
    "loglikelihood = compose(normal.logpdf, g)"
   ]
  },
  {
   "cell_type": "code",
   "execution_count": 58,
   "id": "cec7c5e2-c45c-40f8-8bdb-f19083a0e59d",
   "metadata": {},
   "outputs": [
    {
     "data": {
      "text/plain": [
       "array([1.11022302e-16, 1.41421356e+00])"
      ]
     },
     "execution_count": 58,
     "metadata": {},
     "output_type": "execute_result"
    }
   ],
   "source": [
    "bounds = np.array(\n",
    "    [[0., 0.],\n",
    "     [1., 0.],\n",
    "     [0., 1.],\n",
    "     [1., 1.]]\n",
    ")\n",
    "\n",
    "fortyfive @ np.ones(dim)"
   ]
  },
  {
   "cell_type": "markdown",
   "id": "8abb7cd2-37b4-4446-9c2b-3941e32ba151",
   "metadata": {},
   "source": [
    "# manually producing the rotation matrix s.t. 1s vector maps to [1, 0, ...]"
   ]
  },
  {
   "cell_type": "code",
   "execution_count": 92,
   "id": "58b1be1c-434e-4a71-8d31-eb391f2b87fa",
   "metadata": {},
   "outputs": [
    {
     "name": "stdout",
     "output_type": "stream",
     "text": [
      "[1.11022302e-16 1.41421356e+00 1.11022302e-16 1.41421356e+00]\n"
     ]
    },
    {
     "data": {
      "text/plain": [
       "array([1.11022302e-16, 1.11022302e-16, 1.11022302e-16, 2.00000000e+00])"
      ]
     },
     "execution_count": 92,
     "metadata": {},
     "output_type": "execute_result"
    }
   ],
   "source": [
    "aaa = np.block([[fortyfive, np.zeros_like(fortyfive)], [np.zeros_like(fortyfive), fortyfive]])\n",
    "print(aaa @ np.ones(dim * 2))\n",
    "\n",
    "rot(np.pi / 4, 1, 3, 4) @ aaa @ np.ones(dim * 2)"
   ]
  },
  {
   "cell_type": "code",
   "execution_count": 118,
   "id": "1aa6e3bd-fe13-4c3c-b319-f9ca19d39046",
   "metadata": {},
   "outputs": [
    {
     "name": "stdout",
     "output_type": "stream",
     "text": [
      "[1.11022302e-16 1.41421356e+00 1.11022302e-16 1.41421356e+00\n",
      " 1.11022302e-16 1.41421356e+00]\n",
      "[1.11022302e-16 1.11022302e-16 1.11022302e-16 4.14213562e-01\n",
      " 1.11022302e-16 2.41421356e+00]\n"
     ]
    }
   ],
   "source": [
    "rij = partial(rot, angle=np.pi/4, dim=6)\n",
    "aaa = rij(rdim1=0, rdim2=1) @ rij(rdim1=2, rdim2=3) @ rij(rdim1=4, rdim2=5)\n",
    "print(aaa @ np.ones(6))\n",
    "aaa = rij(rdim1=3, rdim2=5) @ rij(rdim1=1, rdim2=3) @ aaa\n",
    "print(aaa @ np.ones(6))"
   ]
  },
  {
   "cell_type": "code",
   "execution_count": 122,
   "id": "9853cd10-3e08-4f39-8154-e2c16c0fe13c",
   "metadata": {},
   "outputs": [
    {
     "name": "stdout",
     "output_type": "stream",
     "text": [
      "[1.11022302e-16 1.41421356e+00 1.11022302e-16 1.41421356e+00\n",
      " 1.11022302e-16 1.41421356e+00 1.11022302e-16 1.41421356e+00]\n"
     ]
    }
   ],
   "source": [
    "d = 8\n",
    "rij = partial(rot, angle=np.pi/4, dim=d)\n",
    "aaa = rij(rdim1=0, rdim2=1) @ rij(rdim1=2, rdim2=3) @ rij(rdim1=4, rdim2=5) @ rij(rdim1=6, rdim2=7)\n",
    "print(aaa @ np.ones(d))\n",
    "\n",
    "\n",
    "# todo\n",
    "aaa = rij(rdim1=2, rdim2=3) @ rij(rdim1=4, rdim2=5) @ rij(rdim1=6, rdim2=7)\n",
    "\n",
    "\n",
    "# aaa = rij(rdim1=3, rdim2=5) @ rij(rdim1=1, rdim2=3) @ aaa\n",
    "# print(aaa @ np.ones(6))"
   ]
  },
  {
   "cell_type": "code",
   "execution_count": null,
   "id": "ff43ab79-5329-4dce-87d5-27e52c53b0ef",
   "metadata": {},
   "outputs": [],
   "source": [
    "rij = partial(rot, angle=np.pi/4, dim=6)\n",
    "aaa = rij(rdim1=0, rdim2=1) @ rij(rdim1=2, rdim2=3) @ rij(rdim1=4, rdim2=5)\n",
    "print(aaa @ np.ones(6))\n",
    "aaa = rij(rdim1=1, rdim2=3) @ aaa\n",
    "aaa = rij(rdim1=3, rdim2=5) @ aaa\n",
    "print(aaa @ np.ones(6))"
   ]
  },
  {
   "cell_type": "code",
   "execution_count": 116,
   "id": "bdd1b477-f1cf-47b1-b00b-5e6d8c10350a",
   "metadata": {},
   "outputs": [
    {
     "name": "stdout",
     "output_type": "stream",
     "text": [
      "[(0, 1), (1, 2), (2, 3), (1, 3), (3, 5)]\n"
     ]
    }
   ],
   "source": [
    "d = 6\n",
    "\n",
    "out = []\n",
    "for i in range(0, d // 2):\n",
    "    out.append((i, i+1))\n",
    "for j in range(len(out) - 1):\n",
    "    out.append((2 * j + 1, 2 * j + 3))\n",
    "print(out)"
   ]
  },
  {
   "cell_type": "code",
   "execution_count": 104,
   "id": "ee69e9a8-918c-4d7b-987b-1153a7843920",
   "metadata": {},
   "outputs": [
    {
     "data": {
      "text/plain": [
       "4"
      ]
     },
     "execution_count": 104,
     "metadata": {},
     "output_type": "execute_result"
    }
   ],
   "source": []
  },
  {
   "cell_type": "code",
   "execution_count": 62,
   "id": "b367ea2e-99ba-4a4a-b5f4-8684bd28c265",
   "metadata": {},
   "outputs": [
    {
     "data": {
      "text/plain": [
       "array([[ 0.00000000e+00,  7.07106781e-01, -7.07106781e-01,\n",
       "         1.11022302e-16],\n",
       "       [ 0.00000000e+00,  7.07106781e-01,  7.07106781e-01,\n",
       "         1.41421356e+00]])"
      ]
     },
     "execution_count": 62,
     "metadata": {},
     "output_type": "execute_result"
    }
   ],
   "source": [
    "fortyfive @ bounds.T"
   ]
  },
  {
   "cell_type": "code",
   "execution_count": 31,
   "id": "428e9130-2bf8-41cc-b989-a107b5a9aec9",
   "metadata": {},
   "outputs": [],
   "source": [
    "def project_SOn(a):\n",
    "    r0 = scipy.linalg.fractional_matrix_power(a.T @ a, 1/2)\n",
    "    r1 = np.linalg.inv(r0)\n",
    "    return a @ r1\n",
    "\n",
    "from scipy.spatial.transform import Rotation as R"
   ]
  },
  {
   "cell_type": "code",
   "execution_count": 39,
   "id": "405c7ff7-0e92-42d7-af7a-4c510fb99f6b",
   "metadata": {},
   "outputs": [
    {
     "data": {
      "text/plain": [
       "array([[ 0.29289322, -0.70710678,  0.70710678],\n",
       "       [ 1.70710678,  0.70710678, -0.70710678],\n",
       "       [ 0.        ,  1.41421356,  1.41421356]])"
      ]
     },
     "execution_count": 39,
     "metadata": {},
     "output_type": "execute_result"
    }
   ],
   "source": [
    "dim = 3\n",
    "x = compose(np.tril, np.ones)((dim, dim)) * 2 - 1\n",
    "R.from_euler(\"ZYZ\", [np.pi/4, np.pi/4, 0], ).as_matrix() @ x"
   ]
  },
  {
   "cell_type": "code",
   "execution_count": 35,
   "id": "9b5897fc-95f0-4b67-9a6a-f47146da162d",
   "metadata": {},
   "outputs": [
    {
     "data": {
      "text/plain": [
       "array([[ 0.58, -1.73],\n",
       "       [ 1.41, -0.  ],\n",
       "       [ 0.82,  0.  ]])"
      ]
     },
     "execution_count": 35,
     "metadata": {},
     "output_type": "execute_result"
    }
   ],
   "source": [
    "np.round(R.from_euler(\"zyz\", [np.pi/4, np.arctan(1/np.sqrt(2)), 0], ).as_matrix() @ v, 2)"
   ]
  },
  {
   "cell_type": "code",
   "execution_count": 34,
   "id": "0a5c3284-f140-4fdb-b3bf-23f4cc8cf876",
   "metadata": {},
   "outputs": [
    {
     "data": {
      "text/plain": [
       "array([[ 0.58, -1.73],\n",
       "       [ 1.41, -0.  ],\n",
       "       [ 0.82,  0.  ]])"
      ]
     },
     "execution_count": 34,
     "metadata": {},
     "output_type": "execute_result"
    }
   ],
   "source": [
    "v = np.asarray(\n",
    "    [[1., 1., 1.,],\n",
    "     [-1., 1., -1.],\n",
    "    ]).T\n"
   ]
  },
  {
   "cell_type": "code",
   "execution_count": null,
   "id": "d18423a9-938e-4140-b3d1-454e7eacbd7b",
   "metadata": {},
   "outputs": [],
   "source": [
    "sigma = 0.1\n",
    "\n",
    "def get_indicator_function(lower_x: float, upper_x: float, fn = identity):\n",
    "    return lambda xx: np.where((lower_x <= xx) & (xx <= upper_x), fn(xx), np.zeros_like(xx))\n",
    "\n",
    "def g(theta): \n",
    "    return np.sin(np.pi * theta) ** 2\n",
    "\n",
    "def get_unnormalized_posterior_pdf(x: float, sigma: float = 0.1) -> np.ndarray:\n",
    "    normal_pdf = compose(np.exp, scipy.stats.norm(loc=x, scale=sigma).logpdf)\n",
    "    return get_indicator_function(\n",
    "        -0.5, 0.5, lambda theta: compose(normal_pdf, g)(theta)\n",
    "    )\n",
    "\n",
    "post_pdf = get_unnormalized_posterior_pdf(0.5)\n",
    "x = np.linspace(-0.5, 0.5, 1000)\n",
    "plt.plot(x, post_pdf(x))\n",
    "\n",
    "# todo I think I can just generate samples in this configuration then transport them to where I want them"
   ]
  },
  {
   "cell_type": "code",
   "execution_count": 28,
   "id": "10e3f255-a6cf-49f4-aa65-6fe9b96d0331",
   "metadata": {},
   "outputs": [
    {
     "data": {
      "text/plain": [
       "array([[ 1.73205081, -1.        , -1.        ],\n",
       "       [ 0.        ,  1.        , -1.        ],\n",
       "       [ 0.        ,  1.        ,  1.        ]])"
      ]
     },
     "execution_count": 28,
     "metadata": {},
     "output_type": "execute_result"
    }
   ],
   "source": [
    "dim = 3\n",
    "\n",
    "# set initial postitions\n",
    "x = compose(np.tril, np.ones)((dim, dim)) * 2 - 1\n",
    "# print(x)\n",
    "# x = x / np.linalg.norm(x, axis=1)\n",
    "\n",
    "# set rotated positions\n",
    "b = x.copy()\n",
    "b[:, 0] = np.linalg.norm(x[:, 0]) * np.asarray([1.] + [0.] * (dim - 1))\n",
    "# b = np.eye(dim) * np.linalg.norm(x, axis=1)[0]\n",
    "\n",
    "# determine rotation matrix\n",
    "a = b @ np.linalg.inv(x)\n",
    "\n",
    "# print(np.linalg.det(a))\n",
    "# np.round(a)\n",
    "# np.round(a, 5) @ x\n",
    "a @ x"
   ]
  },
  {
   "cell_type": "code",
   "execution_count": 30,
   "id": "d89b3957-a169-44b1-960d-c0f0615d59ed",
   "metadata": {},
   "outputs": [
    {
     "data": {
      "text/plain": [
       "array([[ 1.53503135, -0.23747018, -0.79568075],\n",
       "       [ 0.48342454,  0.84461565, -1.04163511],\n",
       "       [ 0.6402964 ,  1.49339624,  1.13220512]])"
      ]
     },
     "execution_count": 30,
     "metadata": {},
     "output_type": "execute_result"
    }
   ],
   "source": [
    "project_SOn(a) @ x"
   ]
  },
  {
   "cell_type": "code",
   "execution_count": 15,
   "id": "d25b8e24-adc6-4817-9319-d8ee786e2bcd",
   "metadata": {},
   "outputs": [
    {
     "ename": "TypeError",
     "evalue": "exponent must be an integer",
     "output_type": "error",
     "traceback": [
      "\u001b[0;31m---------------------------------------------------------------------------\u001b[0m",
      "\u001b[0;31mTypeError\u001b[0m                                 Traceback (most recent call last)",
      "\u001b[0;32m~/sci/tmnre/envs/lib/python3.8/site-packages/numpy/linalg/linalg.py\u001b[0m in \u001b[0;36mmatrix_power\u001b[0;34m(a, n)\u001b[0m\n\u001b[1;32m    622\u001b[0m     \u001b[0;32mtry\u001b[0m\u001b[0;34m:\u001b[0m\u001b[0;34m\u001b[0m\u001b[0;34m\u001b[0m\u001b[0m\n\u001b[0;32m--> 623\u001b[0;31m         \u001b[0mn\u001b[0m \u001b[0;34m=\u001b[0m \u001b[0moperator\u001b[0m\u001b[0;34m.\u001b[0m\u001b[0mindex\u001b[0m\u001b[0;34m(\u001b[0m\u001b[0mn\u001b[0m\u001b[0;34m)\u001b[0m\u001b[0;34m\u001b[0m\u001b[0;34m\u001b[0m\u001b[0m\n\u001b[0m\u001b[1;32m    624\u001b[0m     \u001b[0;32mexcept\u001b[0m \u001b[0mTypeError\u001b[0m \u001b[0;32mas\u001b[0m \u001b[0me\u001b[0m\u001b[0;34m:\u001b[0m\u001b[0;34m\u001b[0m\u001b[0;34m\u001b[0m\u001b[0m\n",
      "\u001b[0;31mTypeError\u001b[0m: 'float' object cannot be interpreted as an integer",
      "\nThe above exception was the direct cause of the following exception:\n",
      "\u001b[0;31mTypeError\u001b[0m                                 Traceback (most recent call last)",
      "\u001b[0;32m<ipython-input-15-584fa4d98916>\u001b[0m in \u001b[0;36m<module>\u001b[0;34m\u001b[0m\n\u001b[0;32m----> 1\u001b[0;31m \u001b[0mnp\u001b[0m\u001b[0;34m.\u001b[0m\u001b[0mlinalg\u001b[0m\u001b[0;34m.\u001b[0m\u001b[0mmatrix_power\u001b[0m\u001b[0;34m(\u001b[0m\u001b[0ma\u001b[0m\u001b[0;34m.\u001b[0m\u001b[0mT\u001b[0m \u001b[0;34m@\u001b[0m \u001b[0ma\u001b[0m\u001b[0;34m,\u001b[0m \u001b[0;36m1\u001b[0m\u001b[0;34m/\u001b[0m\u001b[0;36m2\u001b[0m\u001b[0;34m)\u001b[0m\u001b[0;34m\u001b[0m\u001b[0;34m\u001b[0m\u001b[0m\n\u001b[0m",
      "\u001b[0;32m<__array_function__ internals>\u001b[0m in \u001b[0;36mmatrix_power\u001b[0;34m(*args, **kwargs)\u001b[0m\n",
      "\u001b[0;32m~/sci/tmnre/envs/lib/python3.8/site-packages/numpy/linalg/linalg.py\u001b[0m in \u001b[0;36mmatrix_power\u001b[0;34m(a, n)\u001b[0m\n\u001b[1;32m    623\u001b[0m         \u001b[0mn\u001b[0m \u001b[0;34m=\u001b[0m \u001b[0moperator\u001b[0m\u001b[0;34m.\u001b[0m\u001b[0mindex\u001b[0m\u001b[0;34m(\u001b[0m\u001b[0mn\u001b[0m\u001b[0;34m)\u001b[0m\u001b[0;34m\u001b[0m\u001b[0;34m\u001b[0m\u001b[0m\n\u001b[1;32m    624\u001b[0m     \u001b[0;32mexcept\u001b[0m \u001b[0mTypeError\u001b[0m \u001b[0;32mas\u001b[0m \u001b[0me\u001b[0m\u001b[0;34m:\u001b[0m\u001b[0;34m\u001b[0m\u001b[0;34m\u001b[0m\u001b[0m\n\u001b[0;32m--> 625\u001b[0;31m         \u001b[0;32mraise\u001b[0m \u001b[0mTypeError\u001b[0m\u001b[0;34m(\u001b[0m\u001b[0;34m\"exponent must be an integer\"\u001b[0m\u001b[0;34m)\u001b[0m \u001b[0;32mfrom\u001b[0m \u001b[0me\u001b[0m\u001b[0;34m\u001b[0m\u001b[0;34m\u001b[0m\u001b[0m\n\u001b[0m\u001b[1;32m    626\u001b[0m \u001b[0;34m\u001b[0m\u001b[0m\n\u001b[1;32m    627\u001b[0m     \u001b[0;31m# Fall back on dot for object arrays. Object arrays are not supported by\u001b[0m\u001b[0;34m\u001b[0m\u001b[0;34m\u001b[0m\u001b[0;34m\u001b[0m\u001b[0m\n",
      "\u001b[0;31mTypeError\u001b[0m: exponent must be an integer"
     ]
    }
   ],
   "source": [
    "np.linalg.matrix_power(a.T @ a, 1/2)"
   ]
  },
  {
   "cell_type": "code",
   "execution_count": 16,
   "id": "b27cf6ed-7f2f-4409-bbd0-c9879d295f2a",
   "metadata": {},
   "outputs": [
    {
     "data": {
      "text/plain": [
       "\u001b[0;31mType:\u001b[0m        module\n",
       "\u001b[0;31mString form:\u001b[0m <module 'numpy.linalg' from '/home/ben/sci/tmnre/envs/lib/python3.8/site-packages/numpy/linalg/__init__.py'>\n",
       "\u001b[0;31mFile:\u001b[0m        ~/sci/tmnre/envs/lib/python3.8/site-packages/numpy/linalg/__init__.py\n",
       "\u001b[0;31mDocstring:\u001b[0m  \n",
       "``numpy.linalg``\n",
       "================\n",
       "\n",
       "The NumPy linear algebra functions rely on BLAS and LAPACK to provide efficient\n",
       "low level implementations of standard linear algebra algorithms. Those\n",
       "libraries may be provided by NumPy itself using C versions of a subset of their\n",
       "reference implementations but, when possible, highly optimized libraries that\n",
       "take advantage of specialized processor functionality are preferred. Examples\n",
       "of such libraries are OpenBLAS, MKL (TM), and ATLAS. Because those libraries\n",
       "are multithreaded and processor dependent, environmental variables and external\n",
       "packages such as threadpoolctl may be needed to control the number of threads\n",
       "or specify the processor architecture.\n",
       "\n",
       "- OpenBLAS: https://www.openblas.net/\n",
       "- threadpoolctl: https://github.com/joblib/threadpoolctl\n",
       "\n",
       "Please note that the most-used linear algebra functions in NumPy are present in\n",
       "the main ``numpy`` namespace rather than in ``numpy.linalg``.  There are:\n",
       "``dot``, ``vdot``, ``inner``, ``outer``, ``matmul``, ``tensordot``, ``einsum``,\n",
       "``einsum_path`` and ``kron``.\n",
       "\n",
       "Functions present in numpy.linalg are listed below.\n",
       "\n",
       "\n",
       "Matrix and vector products\n",
       "--------------------------\n",
       "\n",
       "   multi_dot\n",
       "   matrix_power\n",
       "\n",
       "Decompositions\n",
       "--------------\n",
       "\n",
       "   cholesky\n",
       "   qr\n",
       "   svd\n",
       "\n",
       "Matrix eigenvalues\n",
       "------------------\n",
       "\n",
       "   eig\n",
       "   eigh\n",
       "   eigvals\n",
       "   eigvalsh\n",
       "\n",
       "Norms and other numbers\n",
       "-----------------------\n",
       "\n",
       "   norm\n",
       "   cond\n",
       "   det\n",
       "   matrix_rank\n",
       "   slogdet\n",
       "\n",
       "Solving equations and inverting matrices\n",
       "----------------------------------------\n",
       "\n",
       "   solve\n",
       "   tensorsolve\n",
       "   lstsq\n",
       "   inv\n",
       "   pinv\n",
       "   tensorinv\n",
       "\n",
       "Exceptions\n",
       "----------\n",
       "\n",
       "   LinAlgError\n"
      ]
     },
     "metadata": {},
     "output_type": "display_data"
    }
   ],
   "source": [
    "np.linalg?"
   ]
  },
  {
   "cell_type": "code",
   "execution_count": 18,
   "id": "bda4d2df-a352-47ad-b929-a15ce3e4292f",
   "metadata": {},
   "outputs": [
    {
     "data": {
      "text/plain": [
       "(array([2.72474487, 1.        , 0.27525513]),\n",
       " array([[ 0.89127898, -0.4472136 , -0.07497853],\n",
       "        [-0.34402085, -0.77459667,  0.53070675],\n",
       "        [ 0.2954174 ,  0.4472136 ,  0.84423253]]))"
      ]
     },
     "execution_count": 18,
     "metadata": {},
     "output_type": "execute_result"
    }
   ],
   "source": [
    "np.linalg.eig(a.T @ a)"
   ]
  },
  {
   "cell_type": "code",
   "execution_count": 21,
   "id": "814737b5-e580-424e-966a-368452ff8a85",
   "metadata": {},
   "outputs": [
    {
     "data": {
      "text/plain": [
       "0.9999999999999993"
      ]
     },
     "execution_count": 21,
     "metadata": {},
     "output_type": "execute_result"
    }
   ],
   "source": []
  },
  {
   "cell_type": "code",
   "execution_count": 22,
   "id": "67084ca8-e871-43c8-84b7-4b41c4b57319",
   "metadata": {},
   "outputs": [],
   "source": []
  },
  {
   "cell_type": "code",
   "execution_count": null,
   "id": "1b86b780-0998-43f6-8885-8a9652296a81",
   "metadata": {},
   "outputs": [],
   "source": []
  }
 ],
 "metadata": {
  "kernelspec": {
   "display_name": "Python 3",
   "language": "python",
   "name": "python3"
  },
  "language_info": {
   "codemirror_mode": {
    "name": "ipython",
    "version": 3
   },
   "file_extension": ".py",
   "mimetype": "text/x-python",
   "name": "python",
   "nbconvert_exporter": "python",
   "pygments_lexer": "ipython3",
   "version": "3.8.11"
  }
 },
 "nbformat": 4,
 "nbformat_minor": 5
}
