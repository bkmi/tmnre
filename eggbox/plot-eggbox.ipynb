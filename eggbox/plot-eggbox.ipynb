{
 "cells": [
  {
   "cell_type": "code",
   "execution_count": 1,
   "id": "c71b30f5",
   "metadata": {},
   "outputs": [],
   "source": [
    "%matplotlib inline\n",
    "%load_ext autoreload\n",
    "%autoreload 2"
   ]
  },
  {
   "cell_type": "code",
   "execution_count": 2,
   "id": "467a1bad",
   "metadata": {},
   "outputs": [],
   "source": [
    "import logging\n",
    "from functools import partial\n",
    "from copy import deepcopy\n",
    "from toolz import compose, valmap, keyfilter, identity\n",
    "from itertools import combinations\n",
    "import pickle\n",
    "\n",
    "import pandas as pd\n",
    "import seaborn as sns\n",
    "import matplotlib.pyplot as plt\n",
    "import numpy as np\n",
    "import torch\n",
    "\n",
    "import sbi\n",
    "import sbi.utils\n",
    "import sbi.inference\n",
    "import sbi.analysis\n",
    "import sbibm\n",
    "\n",
    "import swyft\n",
    "import swyft.utils.constrainedcorner as cc\n",
    "\n",
    "import tmnre\n",
    "import tmnre.metrics\n",
    "import tmnre.benchmark\n",
    "import tmnre.coverage.oned\n",
    "from tmnre.nn.resnet import make_resenet_tail\n",
    "from tmnre.marginalize import filter_marginals_by_dim"
   ]
  },
  {
   "cell_type": "code",
   "execution_count": 3,
   "id": "48f7119f",
   "metadata": {},
   "outputs": [
    {
     "data": {
      "text/plain": [
       "dict_keys(['sbi/nsims-1000', 'sbi/nsims-10000', 'sbi/nsims-100000', 'swyft/nsims-1000', 'swyft/nsims-10000', 'swyft/nsims-100000', 'rej-swyft/nsims-1000', 'rej-swyft/nsims-10000', 'rej-swyft/nsims-100000', 'seq/nsims-1000', 'seq/nsims-10000'])"
      ]
     },
     "execution_count": 3,
     "metadata": {},
     "output_type": "execute_result"
    }
   ],
   "source": [
    "path = f\"eggbox-{10:02d}-samples.pickle\"\n",
    "with open(path, \"rb\") as f:\n",
    "    gen_eggbox = pickle.load(f)\n",
    "gen_eggbox.keys()"
   ]
  },
  {
   "cell_type": "code",
   "execution_count": 4,
   "id": "9bb4403b",
   "metadata": {},
   "outputs": [
    {
     "data": {
      "text/plain": [
       "dict_keys([(0,), (1,), (2,), (3,), (4,), (5,), (6,), (7,), (8,), (9,), (0, 1), (0, 2), (0, 3), (0, 4), (0, 5), (0, 6), (0, 7), (0, 8), (0, 9), (1, 2), (1, 3), (1, 4), (1, 5), (1, 6), (1, 7), (1, 8), (1, 9), (2, 3), (2, 4), (2, 5), (2, 6), (2, 7), (2, 8), (2, 9), (3, 4), (3, 5), (3, 6), (3, 7), (3, 8), (3, 9), (4, 5), (4, 6), (4, 7), (4, 8), (4, 9), (5, 6), (5, 7), (5, 8), (5, 9), (6, 7), (6, 8), (6, 9), (7, 8), (7, 9), (8, 9)])"
      ]
     },
     "execution_count": 4,
     "metadata": {},
     "output_type": "execute_result"
    }
   ],
   "source": [
    "path = f\"eggbox-seq-marg-{2:02d}-marginals.pickle\"\n",
    "with open(path, \"rb\") as f:\n",
    "    seq_eggbox = pickle.load(f)\n",
    "seq_eggbox.keys()"
   ]
  },
  {
   "cell_type": "code",
   "execution_count": 5,
   "id": "1f1a2242",
   "metadata": {},
   "outputs": [],
   "source": [
    "path = f\"eggbox-{10}-ref.pickle\"\n",
    "with open(path, \"rb\") as f:\n",
    "    ref_marginals, ref_samples = pickle.load(f)"
   ]
  },
  {
   "cell_type": "code",
   "execution_count": 6,
   "id": "33eb1ad5",
   "metadata": {},
   "outputs": [],
   "source": [
    "keepdim = 4\n",
    "indstokeep = list(combinations(range(keepdim), 2)) + [(i,) for i in range(keepdim)]\n",
    "keep = lambda x: x in indstokeep\n",
    "\n",
    "labels = [r\"$\\theta_{\" + str(i) + \"}$\" for i in range(keepdim)]"
   ]
  },
  {
   "cell_type": "code",
   "execution_count": 7,
   "id": "196b2a3f",
   "metadata": {},
   "outputs": [],
   "source": [
    "kwargs = dict(\n",
    "#     kde=True,\n",
    "    kde=False,\n",
    "    bins=50,\n",
    "    figsize=(2.5, 2.5),\n",
    "    truth=0.25 * np.ones(10),\n",
    "    xlim=(0., 1.),\n",
    "    ylim_lower=(0., 1.),\n",
    "    labels=labels,\n",
    "    ticklabels=False,\n",
    "    ticklabelsize=\"small\",\n",
    ")\n",
    "\n",
    "fittext_kwargs = dict(\n",
    "    y=0.8,\n",
    "    fontsize=\"x-large\",\n",
    ")\n",
    "\n",
    "save_kwargs = dict(\n",
    "    bbox_inches='tight',\n",
    "    dpi=300,\n",
    ")"
   ]
  },
  {
   "cell_type": "code",
   "execution_count": 8,
   "id": "5159ca5b",
   "metadata": {},
   "outputs": [
    {
     "name": "stderr",
     "output_type": "stream",
     "text": [
      "100%|██████████| 6/6 [00:00<00:00, 55.69it/s]\n"
     ]
    },
    {
     "data": {
      "image/png": "[encoded data removed]",
      "text/plain": [
       "<Figure size 180x180 with 16 Axes>"
      ]
     },
     "metadata": {
      "needs_background": "light"
     },
     "output_type": "display_data"
    }
   ],
   "source": [
    "dfs = swyft.utils.get_df_dict_from_marginals(ref_marginals)\n",
    "dfs = keyfilter(keep, dfs)\n",
    "\n",
    "fig, axes = cc.corner(\n",
    "    dfs,\n",
    "    **kwargs,\n",
    ")\n",
    "plt.figtext(\n",
    "    s=\"Ground Truth\",\n",
    "    x=0.35,\n",
    "    **fittext_kwargs,\n",
    ")\n",
    "fig.savefig(\"figures/eggbox-ref-corner.png\", **save_kwargs)"
   ]
  },
  {
   "cell_type": "code",
   "execution_count": 9,
   "id": "0293dff9",
   "metadata": {},
   "outputs": [
    {
     "name": "stderr",
     "output_type": "stream",
     "text": [
      "100%|██████████| 6/6 [00:00<00:00, 46.28it/s]\n"
     ]
    },
    {
     "data": {
      "image/png": "[encoded data removed]",
      "text/plain": [
       "<Figure size 180x180 with 16 Axes>"
      ]
     },
     "metadata": {
      "needs_background": "light"
     },
     "output_type": "display_data"
    }
   ],
   "source": [
    "swy_s = gen_eggbox['swyft/nsims-10000']\n",
    "dfs = swyft.utils.get_df_dict_from_weighted_marginals(swy_s)\n",
    "# dfs = keyfilter(lambda x: x in [(0,), (1,), (0, 1)], dfs)\n",
    "dfs = keyfilter(keep, dfs)\n",
    "\n",
    "fig, axes = cc.corner(\n",
    "    dfs,\n",
    "    **kwargs,\n",
    ")\n",
    "plt.figtext(\n",
    "    s=\"MNRE\",\n",
    "    x=0.63,\n",
    "    **fittext_kwargs,\n",
    ")\n",
    "fig.savefig(\"figures/eggbox-mnre-corner.png\", **save_kwargs)"
   ]
  },
  {
   "cell_type": "code",
   "execution_count": 10,
   "id": "9d085474",
   "metadata": {},
   "outputs": [
    {
     "name": "stderr",
     "output_type": "stream",
     "text": [
      "100%|██████████| 6/6 [00:00<00:00, 51.85it/s]\n"
     ]
    },
    {
     "data": {
      "image/png": "[encoded data removed]",
      "text/plain": [
       "<Figure size 180x180 with 16 Axes>"
      ]
     },
     "metadata": {
      "needs_background": "light"
     },
     "output_type": "display_data"
    }
   ],
   "source": [
    "nre_s = gen_eggbox['sbi/nsims-10000']\n",
    "marginals = tmnre.marginalize.all_marginals(nre_s)\n",
    "dfs = swyft.utils.get_df_dict_from_marginals(marginals)\n",
    "dfs = keyfilter(keep, dfs)\n",
    "\n",
    "fig, axes = cc.corner(\n",
    "    dfs,\n",
    "    **kwargs,\n",
    ")\n",
    "plt.figtext(\n",
    "    s=\"NRE\",\n",
    "    x=0.7,\n",
    "    **fittext_kwargs,\n",
    ")\n",
    "fig.savefig(\"figures/eggbox-nre-corner.png\", **save_kwargs)"
   ]
  },
  {
   "cell_type": "code",
   "execution_count": 11,
   "id": "5b729d27",
   "metadata": {},
   "outputs": [
    {
     "name": "stderr",
     "output_type": "stream",
     "text": [
      "100%|██████████| 6/6 [00:00<00:00, 45.61it/s]\n"
     ]
    },
    {
     "data": {
      "image/png": "[encoded data removed]",
      "text/plain": [
       "<Figure size 180x180 with 16 Axes>"
      ]
     },
     "metadata": {
      "needs_background": "light"
     },
     "output_type": "display_data"
    }
   ],
   "source": [
    "nre_s = gen_eggbox['seq/nsims-10000']\n",
    "marginals = tmnre.marginalize.all_marginals(nre_s)\n",
    "dfs = swyft.utils.get_df_dict_from_marginals(marginals)\n",
    "dfs = keyfilter(keep, dfs)\n",
    "fig, axes = cc.corner(\n",
    "    dfs,\n",
    "    **kwargs,\n",
    ")\n",
    "plt.figtext(\n",
    "    s=\"SNRE\",\n",
    "    x=0.65,\n",
    "    **fittext_kwargs,\n",
    ")\n",
    "fig.savefig(\"figures/eggbox-snre-corner.png\", **save_kwargs)"
   ]
  },
  {
   "cell_type": "code",
   "execution_count": 12,
   "id": "5d315d5c",
   "metadata": {},
   "outputs": [
    {
     "name": "stderr",
     "output_type": "stream",
     "text": [
      "100%|██████████| 6/6 [00:00<00:00, 40.96it/s]\n"
     ]
    },
    {
     "data": {
      "image/png": "[encoded data removed]",
      "text/plain": [
       "<Figure size 180x180 with 16 Axes>"
      ]
     },
     "metadata": {
      "needs_background": "light"
     },
     "output_type": "display_data"
    }
   ],
   "source": [
    "dfs = swyft.utils.get_df_dict_from_marginals(seq_eggbox)\n",
    "dfs = keyfilter(keep, dfs)\n",
    "fig, axes = cc.corner(\n",
    "    dfs,\n",
    "    **kwargs,\n",
    ")\n",
    "plt.figtext(\n",
    "    s=\"SMNRE\",\n",
    "    x=0.6,\n",
    "    **fittext_kwargs,\n",
    ")\n",
    "fig.savefig(\"figures/eggbox-msnre-corner.png\", **save_kwargs)"
   ]
  },
  {
   "cell_type": "code",
   "execution_count": null,
   "id": "40b2336e",
   "metadata": {},
   "outputs": [],
   "source": []
  }
 ],
 "metadata": {
  "kernelspec": {
   "display_name": "Python 3",
   "language": "python",
   "name": "python3"
  },
  "language_info": {
   "codemirror_mode": {
    "name": "ipython",
    "version": 3
   },
   "file_extension": ".py",
   "mimetype": "text/x-python",
   "name": "python",
   "nbconvert_exporter": "python",
   "pygments_lexer": "ipython3",
   "version": "3.9.4"
  }
 },
 "nbformat": 4,
 "nbformat_minor": 5
}
