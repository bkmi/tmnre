{
 "cells": [
  {
   "cell_type": "code",
   "execution_count": 1,
   "id": "c71b30f5",
   "metadata": {},
   "outputs": [],
   "source": [
    "%matplotlib inline\n",
    "%load_ext autoreload\n",
    "%autoreload 2"
   ]
  },
  {
   "cell_type": "code",
   "execution_count": 2,
   "id": "467a1bad",
   "metadata": {},
   "outputs": [],
   "source": [
    "import logging\n",
    "from functools import partial\n",
    "from copy import deepcopy\n",
    "from toolz import compose, valmap, keyfilter, identity, merge\n",
    "from itertools import combinations\n",
    "import pickle\n",
    "\n",
    "import pandas as pd\n",
    "import seaborn as sns\n",
    "import matplotlib.pyplot as plt\n",
    "import numpy as np\n",
    "import torch\n",
    "\n",
    "import sbi\n",
    "import sbi.utils\n",
    "import sbi.inference\n",
    "import sbi.analysis\n",
    "import sbibm\n",
    "\n",
    "import swyft\n",
    "import swyft.utils.constrainedcorner as cc\n",
    "\n",
    "import tmnre\n",
    "import tmnre.metrics\n",
    "import tmnre.benchmark\n",
    "import tmnre.coverage.oned\n",
    "from tmnre.nn.resnet import make_resenet_tail\n",
    "from tmnre.marginalize import filter_marginals_by_dim"
   ]
  },
  {
   "cell_type": "code",
   "execution_count": 3,
   "id": "48f7119f",
   "metadata": {},
   "outputs": [
    {
     "data": {
      "text/plain": [
       "dict_keys(['NPE', 'NLE'])"
      ]
     },
     "execution_count": 3,
     "metadata": {},
     "output_type": "execute_result"
    }
   ],
   "source": [
    "path = f\"eggbox-sbi-non.pickle\"\n",
    "with open(path, \"rb\") as f:\n",
    "    posterior_samples_non = pickle.load(f)\n",
    "posterior_samples_non.keys()"
   ]
  },
  {
   "cell_type": "code",
   "execution_count": 4,
   "id": "9bb4403b",
   "metadata": {},
   "outputs": [
    {
     "data": {
      "text/plain": [
       "dict_keys(['SNLE'])"
      ]
     },
     "execution_count": 4,
     "metadata": {},
     "output_type": "execute_result"
    }
   ],
   "source": [
    "path = f\"eggbox-sbi-snle.pickle\"\n",
    "with open(path, \"rb\") as f:\n",
    "    posterior_samples_snle = pickle.load(f)\n",
    "posterior_samples_snle.keys()"
   ]
  },
  {
   "cell_type": "code",
   "execution_count": 5,
   "id": "d75361de-f69c-4fcb-bfff-29bebb770995",
   "metadata": {},
   "outputs": [
    {
     "data": {
      "text/plain": [
       "dict_keys(['NPE', 'NLE', 'SNLE'])"
      ]
     },
     "execution_count": 5,
     "metadata": {},
     "output_type": "execute_result"
    }
   ],
   "source": [
    "posterior_samples = merge(posterior_samples_non, posterior_samples_snle)\n",
    "posterior_samples.keys()"
   ]
  },
  {
   "cell_type": "code",
   "execution_count": 6,
   "id": "33eb1ad5",
   "metadata": {},
   "outputs": [],
   "source": [
    "keepdim = 4\n",
    "indstokeep = list(combinations(range(keepdim), 2)) + [(i,) for i in range(keepdim)]\n",
    "keep = lambda x: x in indstokeep\n",
    "\n",
    "labels = [r\"$\\theta_{\" + str(i) + \"}$\" for i in range(keepdim)]"
   ]
  },
  {
   "cell_type": "code",
   "execution_count": 7,
   "id": "196b2a3f",
   "metadata": {},
   "outputs": [],
   "source": [
    "kwargs = dict(\n",
    "#     kde=True,\n",
    "    kde=False,\n",
    "    bins=50,\n",
    "    figsize=(2.5, 2.5),\n",
    "    truth=0.25 * np.ones(10),\n",
    "    xlim=(0., 1.),\n",
    "    ylim_lower=(0., 1.),\n",
    "    labels=labels,\n",
    "    ticklabels=False,\n",
    "    ticklabelsize=\"small\",\n",
    ")\n",
    "\n",
    "fittext_kwargs = dict(\n",
    "    y=0.8,\n",
    "    fontsize=\"x-large\",\n",
    ")\n",
    "\n",
    "save_kwargs = dict(\n",
    "    bbox_inches='tight',\n",
    "    dpi=300,\n",
    "    facecolor=\"white\",\n",
    "    transparent=False,\n",
    ")"
   ]
  },
  {
   "cell_type": "code",
   "execution_count": 8,
   "id": "5b729d27",
   "metadata": {},
   "outputs": [
    {
     "name": "stderr",
     "output_type": "stream",
     "text": [
      "100%|████████████████████████████████████████████████████████████████████████████████████████████████████████████████████████████████████████████████████████████████████████████████| 6/6 [00:00<00:00, 43.39it/s]\n",
      "100%|████████████████████████████████████████████████████████████████████████████████████████████████████████████████████████████████████████████████████████████████████████████████| 6/6 [00:00<00:00, 39.32it/s]\n",
      "100%|████████████████████████████████████████████████████████████████████████████████████████████████████████████████████████████████████████████████████████████████████████████████| 6/6 [00:00<00:00, 23.79it/s]\n"
     ]
    },
    {
     "data": {
      "image/png": "[encoded data removed]",
      "text/plain": [
       "<Figure size 180x180 with 16 Axes>"
      ]
     },
     "metadata": {
      "needs_background": "light"
     },
     "output_type": "display_data"
    },
    {
     "data": {
      "image/png": "[encoded data removed]",
      "text/plain": [
       "<Figure size 180x180 with 16 Axes>"
      ]
     },
     "metadata": {
      "needs_background": "light"
     },
     "output_type": "display_data"
    },
    {
     "data": {
      "image/png": "[encoded data removed]",
      "text/plain": [
       "<Figure size 180x180 with 16 Axes>"
      ]
     },
     "metadata": {
      "needs_background": "light"
     },
     "output_type": "display_data"
    }
   ],
   "source": [
    "for method in posterior_samples.keys():\n",
    "    sss = posterior_samples[method]\n",
    "    marginals = tmnre.marginalize.all_marginals(sss)\n",
    "    dfs = swyft.utils.get_df_dict_from_marginals(marginals)\n",
    "    dfs = keyfilter(keep, dfs)\n",
    "    fig, axes = cc.corner(\n",
    "        dfs,\n",
    "        **kwargs,\n",
    "    )\n",
    "    plt.figtext(\n",
    "        s=method,\n",
    "        x=0.65,\n",
    "        **fittext_kwargs,\n",
    "    )\n",
    "    fig.savefig(f\"figures/eggbox-{method.lower()}-corner.png\", **save_kwargs)"
   ]
  },
  {
   "cell_type": "code",
   "execution_count": null,
   "id": "40b2336e",
   "metadata": {},
   "outputs": [],
   "source": []
  }
 ],
 "metadata": {
  "kernelspec": {
   "display_name": "Python 3 (ipykernel)",
   "language": "python",
   "name": "python3"
  },
  "language_info": {
   "codemirror_mode": {
    "name": "ipython",
    "version": 3
   },
   "file_extension": ".py",
   "mimetype": "text/x-python",
   "name": "python",
   "nbconvert_exporter": "python",
   "pygments_lexer": "ipython3",
   "version": "3.8.10"
  }
 },
 "nbformat": 4,
 "nbformat_minor": 5
}
